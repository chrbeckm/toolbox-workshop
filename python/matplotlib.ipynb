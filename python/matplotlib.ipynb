{
 "cells": [
  {
   "cell_type": "markdown",
   "metadata": {},
   "source": [
    "# Datenvisualisierung mit\n",
    "\n",
    "![Matplotlib](https://raw.githubusercontent.com/matplotlib/matplotlib/0b5940f544c5715220a9f3d57c971d3fc4073b64/doc/_static/logo2.svg)"
   ]
  },
  {
   "cell_type": "markdown",
   "metadata": {},
   "source": [
    "Um mit Matplotlib arbeiten zu können, muss die Bibliothek erst einmal importiert werden. \n",
    "Damit wir nicht so viel tippen müssen, geben wir ihr den kürzeren Namen `plt`."
   ]
  },
  {
   "cell_type": "code",
   "execution_count": null,
   "metadata": {
    "tags": []
   },
   "outputs": [],
   "source": [
    "from IPython.display import Image\n",
    "\n",
    "import matplotlib.pyplot as plt\n",
    "\n",
    "plt.rcParams[\"figure.figsize\"] = (10, 8)\n",
    "plt.rcParams[\"font.size\"] = 16\n",
    "plt.rcParams[\"lines.linewidth\"] = 2"
   ]
  },
  {
   "cell_type": "markdown",
   "metadata": {},
   "source": [
    "Außerdem brauchen wir der Einfachheit halber ein paar Funktionen aus `numpy`, die dir schon bekannt vorkommen sollten."
   ]
  },
  {
   "cell_type": "code",
   "execution_count": null,
   "metadata": {
    "tags": []
   },
   "outputs": [],
   "source": [
    "import numpy as np\n",
    "\n",
    "x = np.linspace(0, 1)  # gibt 50 Zahlen in gleichmäßigem Abstand von 0–1"
   ]
  },
  {
   "cell_type": "markdown",
   "metadata": {},
   "source": [
    "Zu erst ein einfaches Beispiel mit $f(x)=x^2$.\n",
    "Um den Text-Output in diesem Notebook zu unterdrücken, schreiben wir manchmal ein `;` hinter die letzte Zeile.\n",
    "\n",
    "Im Folgenden verwenden wir die objekt-orientierte Schreibweise von `matplotlib`, die mehr Möglichkeiten und Freiheiten bietet.\n",
    "Diese rufst du mit"
   ]
  },
  {
   "cell_type": "code",
   "execution_count": null,
   "metadata": {},
   "outputs": [],
   "source": [
    "fig, ax = plt.subplots()\n",
    "\n",
    "ax.plot(x, x**2);"
   ]
  },
  {
   "cell_type": "markdown",
   "metadata": {},
   "source": [
    "auf.\n",
    "Du hast dann ein Objekt figure `fig` und ein Objekt axes `ax`, mit denen du interagieren und die Einstellungen im plot vornehmen kannst.\n",
    "\n",
    "Das Objekt `figure` ist dabei die gesamte Abbildung, auf der sich Axen, labels und Text befinden können.\n",
    "Die einzelnen `axes` Objekte sind die jeweiligen Koordinatensysteme, in die man die entsprechenden Daten plottet.\n",
    "Mit diesen können auch Informationen über die Einheiten und Darstellung mit den Achsen definiert werden.\n",
    "\n",
    "Anderes Beispiel: $\\sin(t)$ mit verschiedenen Stilen. Vorsicht, die Funktionen und $\\pi$ sind Bestandteil von `numpy`."
   ]
  },
  {
   "cell_type": "code",
   "execution_count": null,
   "metadata": {
    "tags": []
   },
   "outputs": [],
   "source": [
    "t = np.linspace(0, 2 * np.pi)\n",
    "\n",
    "fig, ax = plt.subplots()\n",
    "ax.plot(t, np.sin(t));"
   ]
  },
  {
   "cell_type": "code",
   "execution_count": null,
   "metadata": {
    "tags": []
   },
   "outputs": [],
   "source": [
    "fig2, ax2 = plt.subplots()\n",
    "ax2.plot(t, np.sin(t), \"r--\");"
   ]
  },
  {
   "cell_type": "code",
   "execution_count": null,
   "metadata": {
    "tags": []
   },
   "outputs": [],
   "source": [
    "ax.cla()\n",
    "ax.plot(t, np.sin(t), \"go\")\n",
    "fig"
   ]
  },
  {
   "cell_type": "markdown",
   "metadata": {},
   "source": [
    "Tabelle mit einigen Farben und Stilen: [matplotlib.axes.Axes.plot](https://matplotlib.org/stable/api/_as_gen/matplotlib.axes.Axes.plot.html)\n",
    "\n",
    "Tabellen mit allen Farben und Stilen:\n",
    "- [Marker](https://matplotlib.org/stable/gallery/lines_bars_and_markers/marker_reference.html#sphx-glr-gallery-lines-bars-and-markers-marker-reference-py)\n",
    "- [Linienstile](https://matplotlib.org/stable/gallery/lines_bars_and_markers/linestyles.html#sphx-glr-gallery-lines-bars-and-markers-linestyles-py)\n",
    "- [Farben](https://matplotlib.org/stable/gallery/color/named_colors.html)"
   ]
  },
  {
   "cell_type": "markdown",
   "metadata": {},
   "source": [
    "Der Vorteil ist nun, dass du z.B. mehrere Objekte `fig` und `ax` parallel benutzen und nachträglich wieder auf das vorherige zugreifen kannst.\n",
    "\n",
    "Du kannst so auch im Nachhinein noch Dinge verändern und trotzdem die andere `figure` unverändert lassen."
   ]
  },
  {
   "cell_type": "code",
   "execution_count": null,
   "metadata": {},
   "outputs": [],
   "source": [
    "fig"
   ]
  },
  {
   "cell_type": "markdown",
   "metadata": {},
   "source": [
    "Neue Grenzen mit `set_xlim(a, b)` und `set_ylim(a, b)`"
   ]
  },
  {
   "cell_type": "code",
   "execution_count": null,
   "metadata": {
    "tags": []
   },
   "outputs": [],
   "source": [
    "ax.set_xlim(0, 2 * np.pi)\n",
    "ax.set_ylim(-1.2, 1.2)\n",
    "fig"
   ]
  },
  {
   "cell_type": "code",
   "execution_count": null,
   "metadata": {},
   "outputs": [],
   "source": [
    "fig2"
   ]
  },
  {
   "cell_type": "markdown",
   "metadata": {},
   "source": [
    "## Es fehlt noch etwas..."
   ]
  },
  {
   "cell_type": "code",
   "execution_count": null,
   "metadata": {},
   "outputs": [],
   "source": [
    "# https://imgs.xkcd.com/comics/convincing.png\n",
    "Image(filename=\"images/xkcd-convincing.png\")"
   ]
  },
  {
   "cell_type": "code",
   "execution_count": null,
   "metadata": {
    "tags": []
   },
   "outputs": [],
   "source": [
    "with plt.xkcd():\n",
    "    fig, ax = plt.subplots()\n",
    "    \n",
    "    ax.set_title(\"Axes with labels\")\n",
    "    ax.plot(t, np.sin(t))\n",
    "    ax.set_xlabel(\"t / s\")\n",
    "    ax.set_ylabel(\"U / V\")\n",
    "    ax.set_ylim(-1.1, 1.1)\n",
    "    ax.set_xlim(0, 2 * np.pi);"
   ]
  },
  {
   "cell_type": "markdown",
   "metadata": {},
   "source": [
    "## Einheiten in Achsenbeschriftungen werden wegdividiert:\n",
    "\n",
    "Achsen-Beschriftungen können mit LaTeX-Code erstellt werden → LaTeX-Kurs in der nächsten Woche."
   ]
  },
  {
   "cell_type": "code",
   "execution_count": null,
   "metadata": {
    "tags": []
   },
   "outputs": [],
   "source": [
    "fig, ax = plt.subplots()\n",
    "\n",
    "ax.plot(t, np.sin(t))\n",
    "ax.set_xlabel(r\"$t / \\mathrm{s}$\")\n",
    "ax.set_ylabel(r\"$U / \\mathrm{V}$\");\n",
    "\n",
    "# ax.plot(t, np.sin(t))\n",
    "# ax.set_xlabel(r'$t / \\mathrm{s}$')\n",
    "# ax.set_ylabel(r'$U \\,/\\, \\mathrm{V}$');  # Spaces sind Geschmacksfrage"
   ]
  },
  {
   "cell_type": "markdown",
   "metadata": {},
   "source": [
    "Mehr zu Einheiten gibt es im LaTeX-Kurs.\n",
    "\n",
    "Als eine alternative Schreibweise für die verschiedenen settings der `axes` kann man auch"
   ]
  },
  {
   "cell_type": "code",
   "execution_count": null,
   "metadata": {},
   "outputs": [],
   "source": [
    "ax.set(\n",
    "    xlim=(0, 2 * np.pi),\n",
    "    xlabel=r\"$t / \\mathrm{s}$\",\n",
    "    ylabel=r\"$U / \\mathrm{V}$\",\n",
    ")\n",
    "fig"
   ]
  },
  {
   "cell_type": "markdown",
   "metadata": {},
   "source": [
    "verwenden.\n",
    "Dabei können alle notwendigen Optionen der `axes` dann gebündelt hingeschrieben werden, was in der Übersichtlichkeit helfen kann."
   ]
  },
  {
   "cell_type": "markdown",
   "metadata": {},
   "source": [
    "## Legende\n",
    "\n",
    "Legenden für Objekte die ein `label` tragen"
   ]
  },
  {
   "cell_type": "code",
   "execution_count": null,
   "metadata": {
    "tags": []
   },
   "outputs": [],
   "source": [
    "ax.plot(t, np.sin(t), label=r\"$\\sin(t)$\")\n",
    "ax.legend()\n",
    "# ax.legend(loc=\"lower left\")\n",
    "# ax.legend(loc=\"best\")\n",
    "fig\n",
    "\n",
    "# fig.legend()  # kann helfen, wenn man mehr als eine Achse und Platz für die Beschriftung an der Außenseite hat\n",
    "# fig"
   ]
  },
  {
   "cell_type": "markdown",
   "metadata": {},
   "source": [
    "Seit matplotlib 2.0.2 ist `loc=best` standardmäßig eingestellt.\n",
    "\n",
    "Andere möglche Orte für die Legende findest du [in der Dokumentation](https://matplotlib.org/stable/api/legend_api.html)."
   ]
  },
  {
   "cell_type": "markdown",
   "metadata": {},
   "source": [
    "### Gitter\n",
    "\n",
    "Mit `grid()` wird ein Gitter erstellt:\n",
    "\n",
    "Hier wird auch der Vorteil der objekt-orientierten Schreibweise deutlich. Wir müssen keinen neuen plot erstellen, sondern können dem in `fig` hinterlegten neue Eigenschaften hinzufügen.\n",
    "Andere möglche Orte für die Legende findest du hier:\n",
    "https://matplotlib.org/api/legend_api.html."
   ]
  },
  {
   "cell_type": "code",
   "execution_count": null,
   "metadata": {
    "tags": []
   },
   "outputs": [],
   "source": [
    "ax.grid()\n",
    "# ax.grid(visible=None)\n",
    "fig\n",
    "\n",
    "# Achtung: Unterschied ax.grid() und ax.grid(True) bei mehrfachem Ausführen.\n",
    "# Nur in Notebooks relevant, da Zellen potentiell mehrfach ausgeführt werden.\n",
    "# Doku: If visible is None and there are no kwargs, this toggles the visibility of the lines."
   ]
  },
  {
   "cell_type": "markdown",
   "metadata": {},
   "source": [
    "## Laden von Daten"
   ]
  },
  {
   "cell_type": "code",
   "execution_count": null,
   "metadata": {
    "tags": []
   },
   "outputs": [],
   "source": [
    "x, y = np.genfromtxt(\"data/example_data_linear.txt\", unpack=True)\n",
    "\n",
    "fig, ax = plt.subplots()\n",
    "ax.plot(x, y, \"k.\")\n",
    "\n",
    "t = np.linspace(0, 10)\n",
    "ax.plot(t, 5 * t, \"r-\");"
   ]
  },
  {
   "cell_type": "markdown",
   "metadata": {},
   "source": [
    "## Auslagern in ein Skript\n",
    "Speicher den folgenden Code in eine Textdatei `plot.py` ab.\n",
    "\n",
    "Öffne ein Terminal und starte das `python`-script mit:\n",
    "    \n",
    "    python plot.py"
   ]
  },
  {
   "cell_type": "code",
   "execution_count": null,
   "metadata": {
    "tags": []
   },
   "outputs": [],
   "source": [
    "import matplotlib.pyplot as plt\n",
    "import numpy as np\n",
    "\n",
    "x = np.linspace(0, 1)\n",
    "fig, ax = plt.subplots()\n",
    "\n",
    "ax.plot(x, x**2, \"b-\")\n",
    "fig.savefig(\"plot.pdf\")"
   ]
  },
  {
   "cell_type": "markdown",
   "metadata": {},
   "source": [
    "Mit `savefig` speichert man die Abbildung. Dies ist eine Funktion der `figure` und nicht der `axes`.\n",
    "\n",
    "In diesem Fall sollte die Datei `plot.pdf` erstellt worden sein.\n",
    "\n",
    "Es gibt viele Ausgabeformate: `pdf`, `png`, `svg`, LaTeX, ...\n",
    "\n",
    "Um mehrere Plots in einem script erstellen und speichern zu können, kann man `ax.cla()` verwenden.\n",
    "Der Befehl leert die aktuell aktiv genutzte `axes`-Umgebung und steht für `clear axis`.\n",
    "\n",
    "Der Befehl `fig.clf()` leert die gesamte `figure` und man muss erst ein neues Objekt `ax` erstellen (z.B. mit `fig.add_subplots()`), bevor man wieder etwas plotten kann."
   ]
  },
  {
   "cell_type": "code",
   "execution_count": null,
   "metadata": {
    "tags": []
   },
   "outputs": [],
   "source": [
    "import matplotlib.pyplot as plt\n",
    "import numpy as np\n",
    "\n",
    "x = np.linspace(0, 1)\n",
    "\n",
    "### Plot 1\n",
    "fig, ax = plt.subplots()\n",
    "\n",
    "ax.plot(x, x**2, \"b-\", label=\"Plot 1\")\n",
    "ax.legend()\n",
    "fig.savefig(\"plot_1.pdf\")\n",
    "\n",
    "### Plot 2\n",
    "ax.cla()\n",
    "\n",
    "ax.plot(x, x**3, \"r-\")\n",
    "fig.savefig(\"plot_2.pdf\");"
   ]
  },
  {
   "cell_type": "markdown",
   "metadata": {},
   "source": [
    "Alternativ kann man auch mehrere `fig` und `axes` Objekte parallel nutzen:"
   ]
  },
  {
   "cell_type": "code",
   "execution_count": null,
   "metadata": {
    "tags": []
   },
   "outputs": [],
   "source": [
    "import matplotlib.pyplot as plt\n",
    "import numpy as np\n",
    "\n",
    "x = np.linspace(0, 1)\n",
    "\n",
    "### Plot 1\n",
    "fig1, ax1 = plt.subplots()\n",
    "\n",
    "ax1.plot(x, x**2, \"b-\", label=\"Plot 1\")\n",
    "ax1.legend()\n",
    "fig1.savefig(\"plot_1.pdf\")\n",
    "\n",
    "### Plot 2\n",
    "fig2, ax2 = plt.subplots()\n",
    "\n",
    "ax2.plot(x, x**3, \"r-\")\n",
    "fig2.savefig(\"plot_2.pdf\");"
   ]
  },
  {
   "cell_type": "markdown",
   "metadata": {},
   "source": [
    "## Komplexere Abbildungen\n",
    "Natürlich kann man mehrere Linien in einen Plot packen:"
   ]
  },
  {
   "cell_type": "code",
   "execution_count": null,
   "metadata": {
    "tags": []
   },
   "outputs": [],
   "source": [
    "x = np.linspace(0, 1)\n",
    "\n",
    "ax.cla()\n",
    "\n",
    "ax.plot(x, x**2, label=r\"$x^2$\")\n",
    "ax.plot(x, x**4)\n",
    "ax.plot(x, x**6, \"o\", label=r\"$x^6$\")\n",
    "\n",
    "ax.legend()\n",
    "fig"
   ]
  },
  {
   "cell_type": "markdown",
   "metadata": {},
   "source": [
    "Es werden nur die Plots in der Legende angezeigt, die ein Label haben.\n",
    "\n",
    "### Mehrere Plots in einer Grafik\n",
    "Man kann auch mehrere Plots in ein Bild packen:"
   ]
  },
  {
   "cell_type": "code",
   "execution_count": null,
   "metadata": {
    "tags": []
   },
   "outputs": [],
   "source": [
    "x = np.linspace(0, 2 * np.pi)\n",
    "\n",
    "# rows, #columns, #position for add_subplot\n",
    "fig, (ax1, ax2) = plt.subplots(2, 1)\n",
    "# ax1 = fig.add_subplot(2, 1, 1)\n",
    "ax1.plot(x, x**2)\n",
    "ax1.set_xlim(0, 2 * np.pi)\n",
    "\n",
    "# ax2 = fig.add_subplot(2, 1, 2)\n",
    "ax2.plot(x, np.sin(x))\n",
    "ax2.set_xlim(0, 2 * np.pi);"
   ]
  },
  {
   "cell_type": "markdown",
   "metadata": {},
   "source": [
    "Dies führt manchmal zu Spacing-Problemen und Teilen die sich überschneiden."
   ]
  },
  {
   "cell_type": "code",
   "execution_count": null,
   "metadata": {},
   "outputs": [],
   "source": [
    "# https://matplotlib.org/stable/_images/sphx_glr_tight_layout_guide_003.png\n",
    "Image(filename=\"images/tight_layout_guide.png\")"
   ]
  },
  {
   "cell_type": "markdown",
   "metadata": {},
   "source": [
    "Lösung: `layout=\"constrained\"`"
   ]
  },
  {
   "cell_type": "code",
   "execution_count": null,
   "metadata": {
    "tags": []
   },
   "outputs": [],
   "source": [
    "x = np.linspace(0, 2 * np.pi)\n",
    "\n",
    "# Anzahl Zeile, Anzahl Spalten\n",
    "fig, (ax1, ax2) = plt.subplots(2, 1, layout=\"constrained\")\n",
    "\n",
    "ax1.plot(x, x**2)\n",
    "ax1.set_xlim(0, 2 * np.pi)\n",
    "ax1.set_title(r\"$f(x)=x^2$\")\n",
    "\n",
    "ax2.plot(x, np.sin(x))\n",
    "ax2.set_xlim(0, 2 * np.pi)\n",
    "ax2.set_title(r\"$f(x)=\\sin(x)$\");"
   ]
  },
  {
   "cell_type": "markdown",
   "metadata": {},
   "source": [
    "### Plot im Plot:"
   ]
  },
  {
   "cell_type": "code",
   "execution_count": null,
   "metadata": {
    "tags": []
   },
   "outputs": [],
   "source": [
    "x = np.linspace(0, 10)\n",
    "\n",
    "fig, ax = plt.subplots()\n",
    "ax.plot(x, x**2)\n",
    "\n",
    "# Koordinaten relativ zum Plot (0,0) links unten (1,1) rechts oben\n",
    "# [x-location, y-location, x-length, y-length]\n",
    "subax1 = ax.inset_axes([0.2, 0.45, 0.3, 0.3])\n",
    "\n",
    "subax1.plot(x, x**3);"
   ]
  },
  {
   "cell_type": "markdown",
   "metadata": {},
   "source": [
    "### Plots mit Fehlerbalken\n",
    "Sehr häufig werden im Praktikum Plots mit Fehlerbalken benötigt, hier erzeugen wir einfach zufällige Fehlerbalken:"
   ]
  },
  {
   "cell_type": "code",
   "execution_count": null,
   "metadata": {},
   "outputs": [],
   "source": [
    "x = np.linspace(0, 2 * np.pi, 10)\n",
    "\n",
    "rng = np.random.default_rng(42)\n",
    "\n",
    "errX = 0.4 * abs(rng.standard_normal(len(x)))\n",
    "errY = 0.4 * abs(rng.standard_normal(len(x)))\n",
    "\n",
    "fig, ax = plt.subplots()\n",
    "\n",
    "ax.errorbar(x + errX, x + errY, xerr=errX, yerr=errY, fmt=\"o\");"
   ]
  },
  {
   "cell_type": "markdown",
   "metadata": {},
   "source": [
    "### Achsen-Skalierung\n",
    "Logarithmische (oder auch andere) Skalierung der Achsen ist auch möglich:"
   ]
  },
  {
   "cell_type": "code",
   "execution_count": null,
   "metadata": {
    "tags": []
   },
   "outputs": [],
   "source": [
    "x = np.linspace(0, 10)\n",
    "\n",
    "ax.cla()\n",
    "\n",
    "ax.plot(x, np.exp(-x))\n",
    "ax.set_yscale(\"log\")\n",
    "# ax.set_xscale('log')\n",
    "fig"
   ]
  },
  {
   "cell_type": "markdown",
   "metadata": {},
   "source": [
    "### Polar-Plot\n",
    "Manchmal braucht man einfach einen Polarplot:"
   ]
  },
  {
   "cell_type": "code",
   "execution_count": null,
   "metadata": {},
   "outputs": [],
   "source": [
    "# r = np.linspace(0, 10, 1000)\n",
    "r = np.linspace(0, 10, 50)\n",
    "theta = 2 * np.pi * r\n",
    "\n",
    "\n",
    "fig, ax = plt.subplots(subplot_kw={\"projection\": \"polar\"})\n",
    "ax.plot(theta, r);"
   ]
  },
  {
   "cell_type": "markdown",
   "metadata": {},
   "source": [
    "# Ticks\n",
    "Man kann sehr viele Sachen mit Ticks machen…"
   ]
  },
  {
   "cell_type": "code",
   "execution_count": null,
   "metadata": {},
   "outputs": [],
   "source": [
    "x = np.linspace(0, 2 * np.pi)\n",
    "\n",
    "fig, ax = plt.subplots()\n",
    "\n",
    "ax.plot(x, np.sin(x))\n",
    "ax.set_xlim(0, 2 * np.pi)\n",
    "# erste Liste: Tick-Positionen, zweite Liste: Tick-Beschriftung\n",
    "ax.set_xticks(\n",
    "    [0, np.pi / 2, np.pi, 3 * np.pi / 2, 2 * np.pi],\n",
    "    [\n",
    "        r\"$0$\",\n",
    "        r\"$\\frac{1}{4}\\tau$\",\n",
    "        r\"$\\frac{1}{2}\\tau$\",\n",
    "        r\"$\\frac{3}{4}\\tau$\",\n",
    "        r\"$\\tau$\",\n",
    "    ],\n",
    ")\n",
    "ax.set_title(r\"$\\tau$ FTW!\");"
   ]
  },
  {
   "cell_type": "code",
   "execution_count": null,
   "metadata": {
    "tags": []
   },
   "outputs": [],
   "source": [
    "months = [\n",
    "    \"Januar\",\n",
    "    \"Februar\",\n",
    "    \"März\",\n",
    "    \"April\",\n",
    "    \"Mai\",\n",
    "    \"Juni\",\n",
    "    \"Juli\",\n",
    "    \"August\",\n",
    "    \"September\",\n",
    "    \"Oktober\",\n",
    "    \"November\",\n",
    "    \"Dezember\",\n",
    "]\n",
    "\n",
    "ax.cla()\n",
    "\n",
    "ax.plot(np.arange(12), np.random.random(12))\n",
    "ax.set_xticks(\n",
    "    np.arange(12), months, rotation=45, rotation_mode=\"anchor\", ha=\"right\", va=\"top\"\n",
    ")\n",
    "ax.set_xlim(0, 11)\n",
    "fig"
   ]
  },
  {
   "cell_type": "markdown",
   "metadata": {},
   "source": [
    "# Histogramme\n",
    "Sehr häufig braucht man Histogramme."
   ]
  },
  {
   "cell_type": "code",
   "execution_count": null,
   "metadata": {
    "tags": []
   },
   "outputs": [],
   "source": [
    "# Zufallsdaten generieren:\n",
    "x = rng.normal(0, 1, 1000)\n",
    "\n",
    "ax.cla()\n",
    "ax.hist(x, bins=20)\n",
    "# try histtype='step'\n",
    "fig"
   ]
  },
  {
   "cell_type": "markdown",
   "metadata": {},
   "source": [
    "# Nicht-Objektorientiertes Plotten\n",
    "Bis jetzt haben wir die ausführliche, objektorientierte Variante von matplotlib benutzt.\n",
    "Es git auch die \"schnelle\" Variante mit der einfacheren `pyplot`-Syntax. Wenn man viele Plots anlegt, ist der objekt-orientierte Ansatz für matplotlib allerdings meist besser geeignet.\n",
    "\n",
    "Die Schreibweise `plt.plot` zeigen wir hier einmal der Vollständig halber und damit auf Stack Overflow oder ähnlichen Seiten keine Verwirrung entsteht.\n",
    "Es besteht eigentlich kein wirklicher Grund, diese Schreibweise aktiv zu nutzen."
   ]
  },
  {
   "cell_type": "code",
   "execution_count": null,
   "metadata": {
    "tags": []
   },
   "outputs": [],
   "source": [
    "x = np.linspace(0, 1)  # gibt 50 Zahlen in gleichmäßigem Abstand von 0–1\n",
    "plt.plot(x, x**2);\n",
    "# Falls nicht interaktiv:\n",
    "# plt.show()"
   ]
  },
  {
   "cell_type": "markdown",
   "metadata": {},
   "source": [
    "# 3D Plots"
   ]
  },
  {
   "cell_type": "code",
   "execution_count": null,
   "metadata": {},
   "outputs": [],
   "source": [
    "from mpl_toolkits.mplot3d import Axes3D\n",
    "\n",
    "fig = plt.figure()\n",
    "ax = fig.add_subplot(projection=\"3d\")\n",
    "\n",
    "theta = np.linspace(-4 * np.pi, 4 * np.pi, 200)\n",
    "z = np.linspace(-2, 2, 200)\n",
    "\n",
    "r = z**2 + 1\n",
    "x = r * np.sin(theta)\n",
    "y = r * np.cos(theta)\n",
    "\n",
    "ax.plot(x, y, z, label=\"parametric curve\")\n",
    "ax.legend();"
   ]
  },
  {
   "cell_type": "markdown",
   "metadata": {},
   "source": [
    "Weitere Beispiele zum 3dim Plotten findest du hier:\n",
    "\n",
    "https://matplotlib.org/stable/gallery/mplot3d/index.html"
   ]
  },
  {
   "cell_type": "markdown",
   "metadata": {},
   "source": [
    "# LaTeX\n",
    "Es ist auch möglich LaTeX für das Setzen aller Plot-Beschriftungen (d.h. Achsenbeschriftungen, Ticks, Legenden, usw.) zu verwenden. Schau dir dazu die \"TeX in matplotlib\" Folien, im LaTeX-Foliensatz an."
   ]
  }
 ],
 "metadata": {
  "anaconda-cloud": {},
  "kernelspec": {
   "display_name": "Python 3 (ipykernel)",
   "language": "python",
   "name": "python3"
  },
  "language_info": {
   "codemirror_mode": {
    "name": "ipython",
    "version": 3
   },
   "file_extension": ".py",
   "mimetype": "text/x-python",
   "name": "python",
   "nbconvert_exporter": "python",
   "pygments_lexer": "ipython3",
   "version": "3.11.5"
  }
 },
 "nbformat": 4,
 "nbformat_minor": 4
}
